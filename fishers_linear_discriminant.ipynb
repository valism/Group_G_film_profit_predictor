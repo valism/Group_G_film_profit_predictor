{
 "cells": [
  {
   "cell_type": "code",
   "execution_count": 1,
   "id": "93f6fa2f",
   "metadata": {},
   "outputs": [],
   "source": [
    "import pandas as pd\n",
    "pd.set_option(\"display.max_columns\", None)\n",
    "\n",
    "import numpy as np\n",
    "\n",
    "import matplotlib.pyplot as plt\n",
    "\n",
    "from fomlads.data.external import import_for_classification\n",
    "\n",
    "from fomlads.model.classification import project_data\n",
    "from fomlads.model.classification import maximum_separation_projection\n",
    "\n",
    "from fomlads.plot.exploratory import plot_scatter_array_classes\n",
    "from fomlads.plot.exploratory import plot_class_histograms\n",
    "from fomlads.model.classification import fisher_linear_discriminant_projection\n",
    "\n",
    "\n",
    "from helper_functions import *"
   ]
  },
  {
   "cell_type": "markdown",
   "id": "f636ba23",
   "metadata": {},
   "source": [
    "# Functions for model fitting and cross validation"
   ]
  },
  {
   "cell_type": "code",
   "execution_count": 2,
   "id": "ccc5a2c8",
   "metadata": {},
   "outputs": [],
   "source": [
    "\n",
    "\n",
    "# I wrote the get_fisher_histogram function to avoid repeated code\n",
    "# fisher_linear_discriminant_projection, project_data, and plot_class_histograms are all from fomlads\n",
    "def get_fisher_histogram(inputs, targets):\n",
    "    \"\"\"\n",
    "    Returns the projected histogram using Fishers model\n",
    "    \"\"\"    \n",
    "    w = fisher_linear_discriminant_projection(inputs, targets)\n",
    "    projected_inputs = project_data(inputs, w)\n",
    "    ax = plot_class_histograms(projected_inputs, targets)\n",
    "\n",
    "   \n",
    "    \n",
    "def get_fishers_predictions(inputs, weights, threshold = 0): \n",
    "    \n",
    "    \"\"\"\n",
    "    Predicts the targets based on inputs and weights.\n",
    "    The weights are caluculated using Fishers criterion.\n",
    "    \"\"\"\n",
    "        \n",
    "    m = np.mean(inputs, axis = 0)\n",
    "    predictions = []\n",
    "    \n",
    "    for x in inputs:\n",
    "        y = np.matmul(weights.T, x-m) # y = w.T * (x - m)\n",
    "        \n",
    "        if y > threshold:\n",
    "            predictions.append(1)\n",
    "        else:\n",
    "            predictions.append(0)\n",
    "\n",
    "    return predictions\n",
    "       \n",
    "        \n",
    "def cross_validate_fishers(df, num_folds = 10):\n",
    "    \"\"\"\n",
    "    Performs K fold cross validation on our dataset using fishers model.\n",
    "    Returns an array containing scores from each iteration.\n",
    "    \n",
    "    \"\"\"\n",
    "    \n",
    "    # Gets the row numbers for the training folds and the validaition folds for each iteration.\n",
    "    # tf_indices -> indices for training folds for each iteration\n",
    "    # vf_indices -> indices for validation folds for each iteration\n",
    "    tf_indices, vf_indices = get_fold_indices(df, num_folds)\n",
    "\n",
    "    # Keeps track of the scores for each iteration of cross validation.\n",
    "    cross_validation_scores = []\n",
    "\n",
    "    # Performs cross validation\n",
    "    for i in range(len(tf_indices)):  \n",
    "\n",
    "        # Training and validation data for the current iteration/\n",
    "        train_fold_df = df.iloc[tf_indices[i]]\n",
    "        validation_fold_df = df.iloc[vf_indices[i]]\n",
    "\n",
    "        # X and y data for training fold\n",
    "        train_fold_x = train_fold_df.drop(\"profit_xy\", axis = 1).to_numpy()\n",
    "        train_fold_y = train_fold_df[\"profit_xy\"].to_numpy()\n",
    "\n",
    "        # X and y data for validation fold\n",
    "        validation_fold_x = validation_fold_df.drop(\"profit_xy\", axis = 1).to_numpy()\n",
    "        validation_fold_y = validation_fold_df[\"profit_xy\"].to_numpy()\n",
    "\n",
    "        # Gets weights from training fold\n",
    "        fishers_weights = fisher_linear_discriminant_projection(train_fold_x, train_fold_y)\n",
    "\n",
    "        # Makes predictions using weights calculated from training fold\n",
    "        fishers_predictions = get_fishers_predictions(validation_fold_x, fishers_weights)\n",
    "\n",
    "        # Calucaltes accuracy for current iteration and appends to list\n",
    "        fold_accuracy = get_accuracy(fishers_predictions, validation_fold_y)\n",
    "        cross_validation_scores.append(fold_accuracy)\n",
    "\n",
    "\n",
    "    return cross_validation_scores\n",
    "\n",
    "\n"
   ]
  },
  {
   "cell_type": "markdown",
   "id": "a966ccfb",
   "metadata": {},
   "source": [
    "# Importing data, model fitting and cross validation"
   ]
  },
  {
   "cell_type": "code",
   "execution_count": 3,
   "id": "ba99b5d6",
   "metadata": {},
   "outputs": [
    {
     "name": "stdout",
     "output_type": "stream",
     "text": [
      "Cross validation scores(%) = [73.41 73.48 74.07 73.02 73.02]\n",
      "Average cross validation score = 73.4%\n"
     ]
    }
   ],
   "source": [
    "df = pd.read_csv(\"profit_x_y.csv\")\n",
    "df = df.drop(\"Unnamed: 0\", axis =1 )\n",
    "\n",
    "df = df.drop(\"title_x\", axis = 1)\n",
    "df = df.drop(\"title_y\", axis = 1)\n",
    "\n",
    "# df_train will be used for cross validation, and df_test will be used for final testing and careating the ROC curve.\n",
    "df_train, df_test = get_train_test_split(df,train_size = 0.8)\n",
    "\n",
    "df_train = log_standardisation(df_train)\n",
    "df_test = log_standardisation(df_test)\n",
    "\n",
    "# Re-calculates the indices because pandas normally keeps the original indices when you take a section of a dataframe\n",
    "df_train.reset_index(inplace=True, drop=True) \n",
    "df_test.reset_index(inplace=True, drop=True) \n",
    "\n",
    "cv_scores = cross_validate_fishers(df_train, num_folds = 5)\n",
    "average_cv_percent = round(100 * sum(cv_scores)/len(cv_scores),2)\n",
    "\n",
    "print(f\"Cross validation scores(%) = {np.around(100 * np.array(cv_scores),2)}\")\n",
    "print(f\"Average cross validation score = {average_cv_percent}%\") \n",
    "\n"
   ]
  },
  {
   "cell_type": "markdown",
   "id": "6182c10a",
   "metadata": {},
   "source": [
    "# ROC Curve"
   ]
  },
  {
   "cell_type": "code",
   "execution_count": 4,
   "id": "974ff0c9",
   "metadata": {},
   "outputs": [
    {
     "data": {
      "image/png": "[encoded data removed]",
      "text/plain": [
       "<Figure size 432x288 with 1 Axes>"
      ]
     },
     "metadata": {
      "needs_background": "light"
     },
     "output_type": "display_data"
    }
   ],
   "source": [
    "# ROC Curve\n",
    "tpr = []\n",
    "fpr = []\n",
    "    \n",
    "weights = fisher_linear_discriminant_projection(df_train.drop(\"profit_xy\", axis = 1).to_numpy(), df_train[\"profit_xy\"].to_numpy())\n",
    "y_true = df_test[\"profit_xy\"].to_numpy()\n",
    "thresholds = np.linspace(-5, 5, num=100)\n",
    "\n",
    "for threshold in thresholds:\n",
    "    # Number of true positives (tp), false positives (fp), true negatives (tn) and false negatives (fn)\n",
    "    tp = 0\n",
    "    fp = 0\n",
    "    tn = 0\n",
    "    fn = 0\n",
    "            \n",
    "    y_pred = get_fishers_predictions(df_test.drop(\"profit_xy\", axis = 1).to_numpy(), weights, threshold = threshold)\n",
    "    \n",
    "    for j in range(len(y_true)):\n",
    "        p = y_pred[j]\n",
    "        t = y_true[j]\n",
    "        \n",
    "        if t == 1 and p == 1:\n",
    "            tp += 1\n",
    "        elif p == 1 and t == 0:\n",
    "            fp += 1\n",
    "        elif t == 0 and p == 0:\n",
    "            tn += 1\n",
    "        elif t == 1 and p == 0:\n",
    "            fn += 1\n",
    "    \n",
    "    tpr.append( tp / (tp + fn))\n",
    "    fpr.append( fp / (tn + fp))\n",
    "\n",
    "    \n",
    "# Area below ROC curve\n",
    "roc_area = round(abs(np.trapz(tpr, fpr)), 3)\n",
    "\n",
    "plt.figure()\n",
    "\n",
    "plt.title(\"ROC curve for Fisher's Linear Discriminant\")\n",
    "plt.plot(fpr, tpr, label = f\"Area below curve = {roc_area}\")\n",
    "\n",
    "plt.xlabel(\"False positive rate\")\n",
    "plt.ylabel(\"True prositive rate\")\n",
    "\n",
    "plt.legend()\n",
    "\n",
    "plt.grid(which = \"major\", linewidth=0.8)\n",
    "plt.grid(which = \"minor\",linestyle = \":\", linewidth = 0.5)\n",
    "\n",
    "plt.plot([0,1], linestyle=\"--\")\n",
    "\n",
    "plt.minorticks_on()\n",
    "\n",
    "plt.show()"
   ]
  },
  {
   "cell_type": "code",
   "execution_count": null,
   "id": "bef2b792",
   "metadata": {},
   "outputs": [],
   "source": []
  }
 ],
 "metadata": {
  "kernelspec": {
   "display_name": "Python 3",
   "language": "python",
   "name": "python3"
  },
  "language_info": {
   "codemirror_mode": {
    "name": "ipython",
    "version": 3
   },
   "file_extension": ".py",
   "mimetype": "text/x-python",
   "name": "python",
   "nbconvert_exporter": "python",
   "pygments_lexer": "ipython3",
   "version": "3.8.8"
  }
 },
 "nbformat": 4,
 "nbformat_minor": 5
}
